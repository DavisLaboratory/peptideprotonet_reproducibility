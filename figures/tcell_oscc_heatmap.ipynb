{
 "cells": [
  {
   "cell_type": "markdown",
   "id": "31b9a581",
   "metadata": {},
   "source": [
    "### T-cell OSCC heatmap results"
   ]
  },
  {
   "cell_type": "code",
   "execution_count": null,
   "id": "a5b72b38",
   "metadata": {},
   "outputs": [],
   "source": [
    "# requires(c('FNN','dplyr','matrixStats', 'limma', 'msImpute'))"
   ]
  },
  {
   "cell_type": "markdown",
   "id": "0f185a35",
   "metadata": {},
   "source": [
    "#### Load saved embedding and preprocess"
   ]
  },
  {
   "cell_type": "code",
   "execution_count": 1,
   "id": "5cc19c12",
   "metadata": {},
   "outputs": [],
   "source": [
    "query_embedding <- read.csv('~/ion_mobility/peptideprotonet_embedding_space_90Kto20KsplitTrain_epoch300_featuresScaled_TCellsCancer_noEvidenceTrain.csv')\n",
    "\n",
    "refrence_data <- read.csv('~/ion_mobility/peptideprotonet_embedding_space_90Kto20KsplitTrain_epoch300_featuresScaled_EvidenceTrain.csv')\n",
    "\n",
    "tcells_evidence <- read.delim(\"~/ion_mobility/PXD023049/txt/evidence.txt\")\n",
    "tcells_evidence$PrecursorID <- paste(tcells_evidence$Modified.sequence, tcells_evidence$Charge, sep=\"\")\n",
    "tcells_evidence$Species <- \"Human\"\n",
    "\n",
    "query <- query_embedding # grep(\"dim|Raw.file\", colnames(data))\n",
    "reference <- refrence_data #  grep(\"dim\", colnames(data))\n",
    "query$Raw.file.id <- as.numeric(as.factor(query$Raw.file))\n",
    "tcells_evidence$Raw.file.id <- as.numeric(as.factor(tcells_evidence$Raw.file))\n",
    "\n",
    "\n",
    "lc_ms_anchors  <- c(\"Raw.file.id\", \"Charge\",\"m.z\", \"Mass\", \"Intensity\",\"Retention.time\")\n",
    "identified_peptides <- FNN::get.knnx(query[, lc_ms_anchors], tcells_evidence[, lc_ms_anchors], k=1)\n",
    "identified_peptides <- query[identified_peptides$nn.index,]\n",
    "identified_peptides$PrecursorID <- tcells_evidence$PrecursorID\n",
    "identified_peptides$Species <- tcells_evidence$Species\n",
    "\n",
    "\n",
    "unidentified_peptides <- dplyr::anti_join(query, identified_peptides,\n",
    "                                            by = lc_ms_anchors)\n",
    "\n",
    "\n",
    "\n",
    "reference_combined <- rbind(reference[,c(grep(\"dim\", colnames(reference), value = TRUE), \"Charge\", \"PrecursorID\", \"Species\")],\n",
    "                            identified_peptides[,c(grep(\"dim\", colnames(reference), value = TRUE), \"Charge\" ,\"PrecursorID\", \"Species\")])\n",
    "                            \n",
    "unidentified_peptides_latent <- unidentified_peptides[, grep(\"dim\", colnames(unidentified_peptides))]\n",
    "\n",
    "\n",
    "reference_latent <- reference_combined[, grep(\"dim\", colnames(reference_combined))]\n",
    "reference_charge <- reference_combined$Charge\n",
    "reference_ident_labels <- reference_combined$PrecursorID\n",
    "reference_ident_species <- reference_combined$Species\n",
    "\n",
    "\n",
    "all_unidentified_peptides <- unidentified_peptides"
   ]
  },
  {
   "cell_type": "code",
   "execution_count": 2,
   "id": "350406d1",
   "metadata": {},
   "outputs": [],
   "source": [
    "reference_combined_sub <- reference_combined[reference_combined$Species %in% c(\"HeLa\",\"Yeast\"), ] # c(\"HeLa\",\"Human\",\"Yeast\")\n",
    "reference_latent <- reference_combined_sub[, grep(\"dim\", colnames(reference_combined_sub))]\n",
    "#reference_latent <- t(apply(reference_latent, 1, FUN=function(x) x/sqrt(sum(x^2))))\n",
    "reference_charge <- reference_combined_sub$Charge\n",
    "reference_ident_labels <- reference_combined_sub$PrecursorID\n",
    "reference_ident_species <- reference_combined_sub$Species\n",
    "\n",
    "\n",
    "\n",
    "study_embedding <- reference_combined[reference_combined$Species %in% c(\"Human\",\"Yeast\"), ] # c(\"HeLa\",\"Human\",\"Yeast\")\n",
    "study_latent <- study_embedding[, grep(\"dim\", colnames(study_embedding))]\n",
    "#study_latent <- t(apply(study_latent, 1, FUN=function(x) x/sqrt(sum(x^2)) ))\n",
    "study_charge <- study_embedding$Charge\n",
    "study_ident_labels <- study_embedding$PrecursorID\n",
    "study_ident_species <- study_embedding$Species\n",
    "\n",
    "\n",
    "\n",
    "tcells_evidence_dedupped <- tcells_evidence[, c(\"Raw.file\",\"PrecursorID\")]\n",
    "tcells_evidence_dedupped <- tcells_evidence_dedupped[!duplicated(tcells_evidence_dedupped),]\n",
    "# tcells_evidence_dedupped <- tcells_evidence_dedupped[grep(\"ox|Deamidation|Acetyl|Oxidation|ac\", tcells_evidence_dedupped$PrecursorID, invert=TRUE),]"
   ]
  },
  {
   "cell_type": "markdown",
   "id": "61983504",
   "metadata": {},
   "source": [
    "Use `computeStats()` for label (peptide identity propagation) and computing false transfers, coverage, new identifications transferred etc "
   ]
  },
  {
   "cell_type": "code",
   "execution_count": 3,
   "id": "8edca820",
   "metadata": {},
   "outputs": [],
   "source": [
    "computeStats <- function(thr, k){\n",
    "  \n",
    "  false_transfer_rate <- c()\n",
    "  # coverage_per_run <- c()\n",
    "  total_idents_per_run_after_transfer <- c()\n",
    "  number_new_ident <- c()\n",
    "  coverage_per_run_after_transfer <- c()\n",
    "  coverage_per_run_before_transfer <- c()\n",
    "  ident_list <- list()\n",
    "  \n",
    "  itr = 1\n",
    "  \n",
    "  for (run in unique(tcells_evidence_dedupped$Raw.file)){\n",
    "    \n",
    "    message(run)\n",
    "    missing_idents <- setdiff(tcells_evidence_dedupped$PrecursorID,\n",
    "                              tcells_evidence_dedupped$PrecursorID[tcells_evidence_dedupped$Raw.file == run])\n",
    "  \n",
    "    latent_study <- study_latent[study_embedding$PrecursorID %in% missing_idents,]\n",
    "    s_charge <- study_charge[study_embedding$PrecursorID %in% missing_idents]\n",
    "    s_ident_labels <- study_ident_labels[study_embedding$PrecursorID %in% missing_idents]\n",
    "    s_ident_species <- study_ident_species[study_embedding$PrecursorID %in% missing_idents]\n",
    "  \n",
    "  \n",
    "    run_query_peptides <- unidentified_peptides[unidentified_peptides$Raw.file %in% run,]\n",
    "  \n",
    "    run_query_peptides_latent <- run_query_peptides[, grep(\"dim\", colnames(run_query_peptides))]\n",
    "    #run_query_peptides_latent <- t(apply(run_query_peptides_latent, 1, FUN=function(x) x/sqrt(sum(x^2))))\n",
    "    query_feature_charges <- run_query_peptides$Charge\n",
    "    run_query_peptides_intensity <- run_query_peptides$Intensity\n",
    "  \n",
    "  \n",
    "    knn_prototypes <- FNN::get.knnx(\n",
    "\n",
    "        latent_study,\n",
    "        run_query_peptides_latent,\n",
    "      k = k) \n",
    "  \n",
    "    probs <- exp(-0.5*((knn_prototypes$nn.dist^2)/matrixStats::rowSds(knn_prototypes$nn.dist^2)))\n",
    "    # probs <- 1 - knn_prototypes$nn.dist^2\n",
    "    ww <- matrix(s_charge[knn_prototypes$nn.index], nrow = nrow(probs), ncol = ncol(probs))\n",
    "    charge <- matrix(query_feature_charges, nrow = nrow(ww), ncol = ncol(ww), byrow = FALSE)\n",
    "    w <- ifelse(ww==charge, 1, 0)\n",
    "  \n",
    "  \n",
    "  \n",
    "  \n",
    "  \n",
    "    transferred_idents <- matrix(s_ident_labels[knn_prototypes$nn.index], \n",
    "                               nrow = nrow(probs), ncol = ncol(probs))\n",
    "    transferred_species <- matrix(s_ident_species[knn_prototypes$nn.index], \n",
    "                                nrow = nrow(probs), ncol = ncol(probs))\n",
    "\n",
    "\n",
    "    # probs <- w*probs\n",
    "    # probs <- probs/rowSums(probs)\n",
    "    # probs[!is.finite(probs)] <- 0\n",
    "\n",
    "    transferred_idents[w==0] <- \"other\"\n",
    "    transferred_species[w==0] <- \"other\"\n",
    "\n",
    "\n",
    "    unmapped_queries <- (rowSums(probs < thr) == k)\n",
    "    \n",
    "    false_transfers_co <- which(rowSums(probs >= thr & transferred_species == c(\"Yeast\") ) > 1)\n",
    "    length(false_transfers_co)\n",
    "  \n",
    "  \n",
    "    correct_transfers <-  (rowSums(probs >= thr & (transferred_species == \"Human\" | transferred_species == \"HeLa\") )> 2)\n",
    "    correct_transfers_run_names <- run_query_peptides$Raw.file[correct_transfers]\n",
    "    correct_transfer_idents <- transferred_idents[correct_transfers,]\n",
    "    correct_transfer_idents <- apply(correct_transfer_idents,1, FUN=function(x) {\n",
    "      z <- table(x)\n",
    "      z <- z[!grepl(\"other\", names(z))]\n",
    "      names(z)[which.max(z)]}\n",
    "      )\n",
    "  \n",
    "    #correct_transfer_idents <- gsub(\"__\",\"_\",correct_transfer_idents)\n",
    "    transfer_idents <- do.call(cbind, list(correct_transfers_run_names, correct_transfer_idents,\n",
    "                                           run_query_peptides_intensity[correct_transfers]))\n",
    "    transfer_idents <- data.frame(transfer_idents)\n",
    "    colnames(transfer_idents) <- c(\"Raw.file\",\"PrecursorID\",\"Intensity\")\n",
    "    # transfer_idents$PrecursorID <- gsub(\"__\",\"_\", transfer_idents$PrecursorID)\n",
    "  \n",
    "    \n",
    "    \n",
    "    ### computation of false transfers-------\n",
    "    \n",
    "    # false_transfer_rate[itr] <- length(false_transfers)\n",
    "    \n",
    "    query_feature_charges <- run_query_peptides$Charge[unmapped_queries]\n",
    "    unmapped_queries_latent <- run_query_peptides_latent[unmapped_queries,]\n",
    "    unmapped_queries_inetnsity <- run_query_peptides_intensity[unmapped_queries]\n",
    "    \n",
    "    if(nrow(unmapped_queries_latent) > 0 ) {\n",
    "      \n",
    "      \n",
    "      ex_prototypes <- FNN::get.knnx(\n",
    "\n",
    "        reference_latent,\n",
    "        unmapped_queries_latent,\n",
    "      k = k) \n",
    "  \n",
    "    ex_probs <- exp(-0.5*((ex_prototypes$nn.dist^2)/matrixStats::rowSds(ex_prototypes$nn.dist^2)))\n",
    "    # ex_probs <- 1 - ex_prototypes$nn.dist^2\n",
    "    ww2 <- matrix(reference_charge[ex_prototypes$nn.index], nrow = nrow(ex_probs), ncol = ncol(ex_probs))\n",
    "    charge_ex <- matrix(query_feature_charges, nrow = nrow(ww2), ncol = ncol(ww2), byrow = FALSE)\n",
    "    w2 <- ifelse(ww2==charge_ex, 1, 0)\n",
    "  \n",
    "  \n",
    "  \n",
    "  \n",
    "  \n",
    "    transferred_idents <- matrix(reference_ident_labels[ex_prototypes$nn.index], \n",
    "                               nrow = nrow(ex_probs), ncol = ncol(ex_probs))\n",
    "    transferred_species <- matrix(reference_ident_species[ex_prototypes$nn.index], \n",
    "                                nrow = nrow(ex_probs), ncol = ncol(ex_probs))\n",
    "\n",
    "\n",
    "    #ex_probs <- w2*ex_probs\n",
    "    #ex_probs <- ex_probs/rowSums(ex_probs)\n",
    "    # ex_probs[!is.finite(ex_probs)] <- 0\n",
    "\n",
    "    transferred_idents[w2==0] <- \"other\"\n",
    "    transferred_species[w2==0] <- \"other\"\n",
    "    \n",
    "    \n",
    "    false_transfers <- which(rowSums(ex_probs >= thr & transferred_species == c(\"Yeast\")) > 1)\n",
    "    length(false_transfers)\n",
    "    \n",
    "    \n",
    "    \n",
    "    new_transfers <- which(rowSums(ex_probs >= thr & (transferred_species == \"HeLa\") ) > 1)\n",
    "    length(new_transfers)\n",
    "    \n",
    "    if(length(new_transfers) > 0){\n",
    "      \n",
    "      new_transfers_run_names <- run_query_peptides$Raw.file[unmapped_queries][new_transfers]\n",
    "      new_transfer_idents <- transferred_idents[new_transfers,, drop=FALSE]\n",
    "      new_transfer_idents <- apply(new_transfer_idents,1, FUN=function(x) {\n",
    "        z <- table(x)\n",
    "        z <- z[!grepl(\"other\", names(z))]\n",
    "        names(z)[which.max(z)]\n",
    "        }\n",
    "      )\n",
    "  \n",
    "      new_transfer_idents <- gsub(\"__\",\"_\", new_transfer_idents)\n",
    "      transfer_idents2 <- do.call(cbind, list(new_transfers_run_names, new_transfer_idents,\n",
    "                                              unmapped_queries_inetnsity[new_transfers]))\n",
    "      transfer_idents2 <- data.frame(transfer_idents2)\n",
    "      colnames(transfer_idents2) <- c(\"Raw.file\",\"PrecursorID\",\"Intensity\")\n",
    "      # transfer_idents2$PrecursorID <- gsub(\"__\",\"_\", transfer_idents2$PrecursorID)\n",
    "  \n",
    "      total_transferred_idents <- rbind(transfer_idents2, transfer_idents)\n",
    "      number_new_ident[itr] <- length(setdiff(transfer_idents2$PrecursorID, tcells_evidence_dedupped$PrecursorID))\n",
    "    } else {\n",
    "      total_transferred_idents <- transfer_idents\n",
    "      number_new_ident[itr] <- 0\n",
    "    }\n",
    "    \n",
    "     \n",
    "    false_transfers <- c(false_transfers, false_transfers_co)\n",
    "    false_transfer_rate[itr] <- length(false_transfers)/length(union(total_transferred_idents$PrecursorID,\n",
    "                                                                      tcells_evidence_dedupped$PrecursorID[tcells_evidence_dedupped$Raw.file %in% run]))\n",
    "     \n",
    "    } else{\n",
    "      \n",
    "      \n",
    "      \n",
    "      total_transferred_idents <- transfer_idents\n",
    "      false_transfer_rate[itr] <- length(false_transfers_co)/length(union(total_transferred_idents$PrecursorID,\n",
    "                                                                      tcells_evidence_dedupped$PrecursorID[tcells_evidence_dedupped$Raw.file %in% run]))\n",
    "      number_new_ident[itr] <- 0\n",
    "      \n",
    "    }\n",
    "    \n",
    "     \n",
    "    \n",
    "    \n",
    "    \n",
    "    # need to store raw file, precursor and Intensity\n",
    "    all_idents <- rbind(cbind(tcells_evidence[tcells_evidence$Raw.file %in% run, \n",
    "                                        c(\"Raw.file\",\"PrecursorID\",\"Intensity\")],\n",
    "                              type = \"TIMS-MULTI-MSMS\"),\n",
    "                        cbind(total_transferred_idents, type = \"PIP\")\n",
    "    )\n",
    "    \n",
    "    all_idents_in_run <- union(total_transferred_idents$PrecursorID,\n",
    "                               tcells_evidence_dedupped$PrecursorID[tcells_evidence_dedupped$Raw.file %in% run])\n",
    "    \n",
    "    coverage_per_run_after_transfer[itr] <- length(intersect(all_idents_in_run, tcells_evidence_dedupped$PrecursorID))/ length(unique(tcells_evidence_dedupped$PrecursorID))\n",
    "    \n",
    "    \n",
    "    coverage_per_run_before_transfer[itr] <- length(intersect(tcells_evidence_dedupped$PrecursorID[tcells_evidence_dedupped$Raw.file %in% run], tcells_evidence_dedupped$PrecursorID))/ length(unique(tcells_evidence_dedupped$PrecursorID))\n",
    "    \n",
    "    \n",
    "\n",
    "    total_idents_per_run_after_transfer[itr] <- length(all_idents_in_run)\n",
    "    ident_list[[itr]] <- data.frame(all_idents)\n",
    "\n",
    "   \n",
    "    \n",
    "    itr = itr + 1\n",
    "     \n",
    "    \n",
    "  \n",
    "  }\n",
    "  \n",
    "  ALL_IDENTS <- do.call(rbind, ident_list)\n",
    "  return(list(\"threshold\" = rep(thr, length(unique(tcells_evidence_dedupped$Raw.file))), \n",
    "              \"false_transfer_rate\" = false_transfer_rate, \n",
    "                         #\"median_coverage\" = med_cov_per_run, \n",
    "              \"coverage_before_transfer\" = coverage_per_run_before_transfer,\n",
    "              \"coverage_after_transfer\" = coverage_per_run_after_transfer,\n",
    "              \"number_new_idents\" = number_new_ident,\n",
    "              \"total_idents_per_run_after_PIP\" = total_idents_per_run_after_transfer,\n",
    "              \"identifications\" = ALL_IDENTS))\n",
    "}"
   ]
  },
  {
   "cell_type": "markdown",
   "id": "a3775aac",
   "metadata": {},
   "source": [
    "Quantify PIPP for $k=10$ and uncertainty cutoff zero:"
   ]
  },
  {
   "cell_type": "code",
   "execution_count": 4,
   "id": "2d84631a",
   "metadata": {},
   "outputs": [
    {
     "name": "stderr",
     "output_type": "stream",
     "text": [
      "\u001b[36mℹ\u001b[39m Loading \u001b[34m\u001b[34mmsImpute\u001b[34m\u001b[39m\n",
      "\n"
     ]
    },
    {
     "data": {
      "text/plain": [
       "\n",
       "TIMS-MULTI-MSMS \n",
       "         108018 "
      ]
     },
     "metadata": {},
     "output_type": "display_data"
    },
    {
     "data": {
      "text/html": [
       "30843"
      ],
      "text/latex": [
       "30843"
      ],
      "text/markdown": [
       "30843"
      ],
      "text/plain": [
       "[1] 30843"
      ]
     },
     "metadata": {},
     "output_type": "display_data"
    },
    {
     "name": "stderr",
     "output_type": "stream",
     "text": [
      "Control_secretoma1_Slot2-19_1_2497\n",
      "\n",
      "Control_secretoma2_Slot2-19_1_2498\n",
      "\n",
      "Control_secretoma3_Slot2-19_1_2499\n",
      "\n",
      "Cancer_secretoma2_Slot2-20_1_2502\n",
      "\n",
      "Cancer_secretoma1_Slot2-20_1_2501\n",
      "\n",
      "Cancer_secretoma3_Slot2-20_1_2503\n",
      "\n"
     ]
    },
    {
     "data": {
      "text/plain": [
       "\n",
       "            PIP TIMS-MULTI-MSMS \n",
       "         378854          108018 "
      ]
     },
     "metadata": {},
     "output_type": "display_data"
    },
    {
     "data": {
      "text/html": [
       "<style>\n",
       ".list-inline {list-style: none; margin:0; padding: 0}\n",
       ".list-inline>li {display: inline-block}\n",
       ".list-inline>li:not(:last-child)::after {content: \"\\00b7\"; padding: 0 .5ex}\n",
       "</style>\n",
       "<ol class=list-inline><li>108018</li><li>76</li></ol>\n"
      ],
      "text/latex": [
       "\\begin{enumerate*}\n",
       "\\item 108018\n",
       "\\item 76\n",
       "\\end{enumerate*}\n"
      ],
      "text/markdown": [
       "1. 108018\n",
       "2. 76\n",
       "\n",
       "\n"
      ],
      "text/plain": [
       "[1] 108018     76"
      ]
     },
     "metadata": {},
     "output_type": "display_data"
    },
    {
     "data": {
      "text/html": [
       "23399.5"
      ],
      "text/latex": [
       "23399.5"
      ],
      "text/markdown": [
       "23399.5"
      ],
      "text/plain": [
       "[1] 23399.5"
      ]
     },
     "metadata": {},
     "output_type": "display_data"
    },
    {
     "data": {
      "text/plain": [
       "   Min. 1st Qu.  Median    Mean 3rd Qu.    Max. \n",
       "  20835   21173   23400   23304   25524   25530 "
      ]
     },
     "metadata": {},
     "output_type": "display_data"
    },
    {
     "data": {
      "text/html": [
       "16770.5"
      ],
      "text/latex": [
       "16770.5"
      ],
      "text/markdown": [
       "16770.5"
      ],
      "text/plain": [
       "[1] 16770.5"
      ]
     },
     "metadata": {},
     "output_type": "display_data"
    },
    {
     "data": {
      "text/plain": [
       "   Min. 1st Qu.  Median    Mean 3rd Qu.    Max. \n",
       "  14429   14720   16770   16705   18766   18791 "
      ]
     },
     "metadata": {},
     "output_type": "display_data"
    },
    {
     "data": {
      "text/html": [
       "<style>\n",
       ".list-inline {list-style: none; margin:0; padding: 0}\n",
       ".list-inline>li {display: inline-block}\n",
       ".list-inline>li:not(:last-child)::after {content: \"\\00b7\"; padding: 0 .5ex}\n",
       "</style>\n",
       "<ol class=list-inline><li>30843</li><li>6</li></ol>\n"
      ],
      "text/latex": [
       "\\begin{enumerate*}\n",
       "\\item 30843\n",
       "\\item 6\n",
       "\\end{enumerate*}\n"
      ],
      "text/markdown": [
       "1. 30843\n",
       "2. 6\n",
       "\n",
       "\n"
      ],
      "text/plain": [
       "[1] 30843     6"
      ]
     },
     "metadata": {},
     "output_type": "display_data"
    },
    {
     "data": {
      "text/html": [
       "<style>\n",
       ".list-inline {list-style: none; margin:0; padding: 0}\n",
       ".list-inline>li {display: inline-block}\n",
       ".list-inline>li:not(:last-child)::after {content: \"\\00b7\"; padding: 0 .5ex}\n",
       "</style>\n",
       "<ol class=list-inline><li>30843</li><li>6</li></ol>\n"
      ],
      "text/latex": [
       "\\begin{enumerate*}\n",
       "\\item 30843\n",
       "\\item 6\n",
       "\\end{enumerate*}\n"
      ],
      "text/markdown": [
       "1. 30843\n",
       "2. 6\n",
       "\n",
       "\n"
      ],
      "text/plain": [
       "[1] 30843     6"
      ]
     },
     "metadata": {},
     "output_type": "display_data"
    },
    {
     "data": {
      "text/html": [
       "0.288096607245543"
      ],
      "text/latex": [
       "0.288096607245543"
      ],
      "text/markdown": [
       "0.288096607245543"
      ],
      "text/plain": [
       "[1] 0.2880966"
      ]
     },
     "metadata": {},
     "output_type": "display_data"
    },
    {
     "data": {
      "text/html": [
       "0.703882207286877"
      ],
      "text/latex": [
       "0.703882207286877"
      ],
      "text/markdown": [
       "0.703882207286877"
      ],
      "text/plain": [
       "[1] 0.7038822"
      ]
     },
     "metadata": {},
     "output_type": "display_data"
    },
    {
     "data": {
      "text/html": [
       "0.779758481886141"
      ],
      "text/latex": [
       "0.779758481886141"
      ],
      "text/markdown": [
       "0.779758481886141"
      ],
      "text/plain": [
       "[1] 0.7797585"
      ]
     },
     "metadata": {},
     "output_type": "display_data"
    },
    {
     "data": {
      "text/html": [
       "7728"
      ],
      "text/latex": [
       "7728"
      ],
      "text/markdown": [
       "7728"
      ],
      "text/plain": [
       "[1] 7728"
      ]
     },
     "metadata": {},
     "output_type": "display_data"
    },
    {
     "data": {
      "image/png": "[encoded data removed]",
      "text/plain": [
       "plot without title"
      ]
     },
     "metadata": {
      "image/png": {
       "height": 420,
       "width": 420
      }
     },
     "output_type": "display_data"
    },
    {
     "data": {
      "image/png": "[encoded data removed]",
      "text/plain": [
       "plot without title"
      ]
     },
     "metadata": {
      "image/png": {
       "height": 420,
       "width": 420
      }
     },
     "output_type": "display_data"
    }
   ],
   "source": [
    "devtools::load_all(\"/stornext/General/data/academic/lab_davis/prot/benchmarking/msImpute/\")\n",
    "data <- read.delim(\"~/ion_mobility/PXD023049/txt/evidence.txt\", \n",
    "                   stringsAsFactors = FALSE)\n",
    "\n",
    "\n",
    "table(data$Type)\n",
    "\n",
    "data$PeptideID <- paste0(data$Modified.sequence, data$Charge)\n",
    "data$matrix.row.id <- paste(data$PeptideID, data$Leading.Razor.Protein, sep =\"_\")\n",
    "\n",
    "\n",
    "length(unique(data$PeptideID))\n",
    "\n",
    "\n",
    "genes <- data[,c(\"PeptideID\",\"matrix.row.id\", \"Leading.razor.protein\")]\n",
    "genes <- genes[!duplicated(genes),]\n",
    "\n",
    "\n",
    "\n",
    "\n",
    "\n",
    "\n",
    "tcells_pip_k10_cut005 <- computeStats(0, k = 10)\n",
    "\n",
    "z <- tcells_pip_k10_cut005$identifications\n",
    "table(z$type)\n",
    "dim(data)\n",
    "\n",
    "\n",
    "z$Intensity <- as.numeric(z$Intensity)\n",
    "\n",
    "y_pip <- evidenceToMatrix(z, peptide_id = \"PrecursorID\")\n",
    "\n",
    "# y_pip[\"_AAAANLCPGDVILAIDGFGTESMTHADAQDR_3\",]\n",
    "# z[z$PrecursorID %in% \"_AAAANLCPGDVILAIDGFGTESMTHADAQDR_3\",]\n",
    "\n",
    "\n",
    "median(colSums(!is.na(y_pip)))\n",
    "summary(colSums(!is.na(y_pip)))\n",
    "\n",
    "\n",
    "\n",
    "\n",
    "y_noMBR <- evidenceToMatrix(data)\n",
    "# what is median identifications per run\n",
    "median(colSums(!is.na(y_noMBR)))\n",
    "summary(colSums(!is.na(y_noMBR)))\n",
    "\n",
    "\n",
    "dim(y_noMBR)\n",
    "dim(y_pip)\n",
    "\n",
    "\n",
    "# drop modifications\n",
    "y_noMBR <- y_noMBR[grep(\"[a-z]+\", rownames(y_noMBR), invert = TRUE),]\n",
    "y_pip <- y_pip[grep(\"[a-z]+\", rownames(y_pip), invert = TRUE),]\n",
    "\n",
    "## filter out some rows/entries ----\n",
    "\n",
    "y_noMBR <- y_noMBR[rowSums(!is.na(y_noMBR)) > 2,]\n",
    "y_pip <- y_pip[rowSums(!is.na(y_pip)) > 2,]\n",
    "\n",
    "mean(complete.cases(y_noMBR))\n",
    "mean(complete.cases(y_pip))\n",
    "mean(complete.cases(y_pip[rownames(y_noMBR),]))\n",
    "\n",
    "\n",
    "\n",
    "missing_peptides <- rownames(y_noMBR)[!complete.cases(y_noMBR[,1:3]) & complete.cases(y_noMBR[,4:6])]\n",
    "length(missing_peptides)\n",
    "\n",
    "library(pheatmap)\n",
    "\n",
    "z1 <- t(scale(t(log2(y_noMBR))))\n",
    "z2 <- t(scale(t(log2(y_pip))))\n",
    "\n",
    "# z1 <- log2(y_noMBR)\n",
    "# z2 <- log2(y_pip)\n",
    "\n",
    "\n",
    "\n",
    "\n",
    "pheatobj <- pheatmap(z2[missing_peptides,], show_rownames = FALSE,\n",
    "         treeheight_row = 0,\n",
    "         treeheight_col = 0, \n",
    "         labels_col = gsub(\"(.*)_(.*)_(.*)_(.*)_(.*)\", \"\\\\1_\\\\2\", colnames(z2)), \n",
    "         main = \"Peptideprotonet + PIP\",\n",
    "         cluster_cols = FALSE,\n",
    "         cluster_rows = TRUE)\n",
    "\n",
    "\n",
    "\n",
    " pheatmap(z1[missing_peptides,][pheatobj$tree_row$order,], show_rownames = FALSE, # [pheatobj$tree_row$order,]\n",
    "         treeheight_row = 0, \n",
    "         treeheight_col = 0, \n",
    "         labels_col = gsub(\"(.*)_(.*)_(.*)_(.*)_(.*)\", \"\\\\1_\\\\2\", colnames(z1)), \n",
    "         main = \"MaxQuant\",\n",
    "         cluster_cols = FALSE,\n",
    "         cluster_rows = FALSE)\n"
   ]
  },
  {
   "cell_type": "markdown",
   "id": "fd27ea0b",
   "metadata": {},
   "source": [
    "Next we perform PIP for $k=10$ and $k=5$ for different cutoffs and save the results. These pre-computed results are loaded later in `peptideprotonet_PIP_evals` notebook . "
   ]
  },
  {
   "cell_type": "code",
   "execution_count": null,
   "id": "b1b77642",
   "metadata": {},
   "outputs": [],
   "source": [
    "############# Tabularise results for different cut-offs\n",
    "\n",
    "results_k10 <- list()\n",
    "itr = 1\n",
    "for (thr in c(0, 0.01, 0.05, 0.2,0.5, 0.8)){\n",
    "  res <- computeStats(thr, k = 10)\n",
    "  results_k10[[itr]] <- list(\"threshold\" = thr, \"false_transfer_rate\" = median(res$false_transfer_rate), \n",
    "                         \"mean_coverage\" = median(res$coverage_before_transfer), \n",
    "                         \"mean_coverage_after_transfer\" = mean(res$coverage_after_transfer),\n",
    "                         \"max_coverage_after_transfer\" = max(res$coverage_after_transfer),\n",
    "                         \"N_new_idents\" = round(median(res$number_new_idents)),\n",
    "                         \"median_idents_per_run_after_PIP\" = round(median(res$total_idents_per_run_after_PIP)),\n",
    "                         \"identifications\" = res$identifications)\n",
    "  \n",
    "  itr = itr + 1\n",
    "  \n",
    "}\n",
    "\n",
    "coverage_results <- lapply(results_k10, FUN=function(x)  x[!grepl(\"identifications\", names(x))])\n",
    "\n",
    "(dt_k10 <- data.frame(do.call(rbind, coverage_results)))\n",
    "dt_k10 <- data.frame(round(data.matrix(dt_k10),3))\n",
    "\n",
    "\n",
    "\n",
    "\n",
    "\n",
    "results_5k <- list()\n",
    "itr = 1\n",
    "for (thr in c(0, 0.01, 0.05, 0.2,0.5, 0.8)){\n",
    "  res <- computeStats(thr, k = 5)\n",
    "  results_5k[[itr]] <- list(\"threshold\" = thr, \"false_transfer_rate\" = median(res$false_transfer_rate), \n",
    "                         \"mean_coverage\" = median(res$coverage_before_transfer), \n",
    "                         \"mean_coverage_after_transfer\" = mean(res$coverage_after_transfer),\n",
    "                         \"max_coverage_after_transfer\" = max(res$coverage_after_transfer),\n",
    "                         \"N_new_idents\" = round(median(res$number_new_idents)),\n",
    "                         \"median_idents_per_run_after_PIP\" = round(median(res$total_idents_per_run_after_PIP)),\n",
    "                         \"identifications\" = res$identifications)\n",
    "  \n",
    "  itr = itr + 1\n",
    "  \n",
    "}\n",
    "\n",
    "coverage_results <- lapply(results_5k, FUN=function(x)  x[!grepl(\"identifications\", names(x))])\n",
    "\n",
    "(dt_k5 <- data.frame(do.call(rbind, coverage_results)))\n",
    "dt_k5 <- data.frame(round(data.matrix(dt_k5),3))\n",
    "\n",
    "dt_k10_tcells <- dt_k10\n",
    "dt_k5_tcells <- dt_k5\n",
    "\n",
    "# save(dt_k10_tcells, dt_k5_tcells, file = \"tcells_exosome_peptideprotonet_evals.RData\")"
   ]
  },
  {
   "cell_type": "markdown",
   "id": "cb57e26b",
   "metadata": {},
   "source": [
    "### Session Information"
   ]
  },
  {
   "cell_type": "code",
   "execution_count": 7,
   "id": "38a3b39d",
   "metadata": {},
   "outputs": [
    {
     "data": {
      "text/plain": [
       "R version 4.0.5 (2021-03-31)\n",
       "Platform: x86_64-pc-linux-gnu (64-bit)\n",
       "Running under: CentOS Linux 7 (Core)\n",
       "\n",
       "Matrix products: default\n",
       "BLAS:   /stornext/System/data/apps/R/R-4.0.5/lib64/R/lib/libRblas.so\n",
       "LAPACK: /stornext/System/data/apps/R/R-4.0.5/lib64/R/lib/libRlapack.so\n",
       "\n",
       "locale:\n",
       " [1] LC_CTYPE=en_US.UTF-8       LC_NUMERIC=C              \n",
       " [3] LC_TIME=en_US.UTF-8        LC_COLLATE=en_US.UTF-8    \n",
       " [5] LC_MONETARY=en_US.UTF-8    LC_MESSAGES=en_US.UTF-8   \n",
       " [7] LC_PAPER=en_US.UTF-8       LC_NAME=C                 \n",
       " [9] LC_ADDRESS=C               LC_TELEPHONE=C            \n",
       "[11] LC_MEASUREMENT=en_US.UTF-8 LC_IDENTIFICATION=C       \n",
       "\n",
       "attached base packages:\n",
       "[1] stats     graphics  grDevices utils     datasets  methods   base     \n",
       "\n",
       "other attached packages:\n",
       "[1] pheatmap_1.0.12 msImpute_1.7.1 \n",
       "\n",
       "loaded via a namespace (and not attached):\n",
       "  [1] bitops_1.0-6                matrixStats_0.57.0         \n",
       "  [3] fs_1.5.0                    usethis_2.0.1              \n",
       "  [5] devtools_2.4.2              RColorBrewer_1.1-2         \n",
       "  [7] rprojroot_2.0.2             GenomeInfoDb_1.26.2        \n",
       "  [9] repr_1.1.3                  tools_4.0.5                \n",
       " [11] utf8_1.2.1                  R6_2.5.0                   \n",
       " [13] irlba_2.3.3                 colorspace_2.0-1           \n",
       " [15] DBI_1.1.1                   BiocGenerics_0.36.0        \n",
       " [17] withr_2.4.2                 tidyselect_1.1.1           \n",
       " [19] prettyunits_1.1.1           processx_3.5.2             \n",
       " [21] compiler_4.0.5              cli_2.5.0                  \n",
       " [23] Biobase_2.50.0              BiocNeighbors_1.8.2        \n",
       " [25] Cairo_1.5-12.2              desc_1.3.0                 \n",
       " [27] DelayedArray_0.16.1         scales_1.1.1               \n",
       " [29] mvtnorm_1.1-1               callr_3.7.0                \n",
       " [31] pbdZMQ_0.3-5                digest_0.6.27              \n",
       " [33] XVector_0.30.0              base64enc_0.1-3            \n",
       " [35] pkgconfig_2.0.3             htmltools_0.5.1.1          \n",
       " [37] sessioninfo_1.1.1           sparseMatrixStats_1.2.0    \n",
       " [39] MatrixGenerics_1.2.0        fastmap_1.0.1              \n",
       " [41] limma_3.46.0                rlang_0.4.11               \n",
       " [43] pdist_1.2                   rstudioapi_0.13            \n",
       " [45] FNN_1.1.3                   DelayedMatrixStats_1.12.3  \n",
       " [47] generics_0.1.0              jsonlite_1.7.2             \n",
       " [49] BiocParallel_1.24.1         dplyr_1.0.6                \n",
       " [51] RCurl_1.98-1.2              magrittr_2.0.1             \n",
       " [53] BiocSingular_1.6.0          GenomeInfoDbData_1.2.4     \n",
       " [55] scuttle_1.0.4               Matrix_1.3-4               \n",
       " [57] munsell_0.5.0               Rcpp_1.0.7                 \n",
       " [59] IRkernel_1.2.0.9000         S4Vectors_0.28.1           \n",
       " [61] fansi_0.5.0                 reticulate_1.18            \n",
       " [63] lifecycle_1.0.0             edgeR_3.32.1               \n",
       " [65] SummarizedExperiment_1.20.0 zlibbioc_1.36.0            \n",
       " [67] pkgbuild_1.2.0              grid_4.0.5                 \n",
       " [69] parallel_4.0.5              dqrng_0.2.1                \n",
       " [71] crayon_1.4.1                lattice_0.20-44            \n",
       " [73] IRdisplay_1.0               beachmat_2.6.4             \n",
       " [75] locfit_1.5-9.4              ps_1.6.0                   \n",
       " [77] pillar_1.6.1                igraph_1.2.6               \n",
       " [79] GenomicRanges_1.42.0        uuid_0.1-4                 \n",
       " [81] softImpute_1.4              stats4_4.0.5               \n",
       " [83] pkgload_1.2.1               glue_1.4.2                 \n",
       " [85] evaluate_0.14               scran_1.18.7               \n",
       " [87] data.table_1.13.6           remotes_2.4.0              \n",
       " [89] vctrs_0.3.8                 testthat_3.0.4             \n",
       " [91] gtable_0.3.0                purrr_0.3.4                \n",
       " [93] tidyr_1.1.3                 assertthat_0.2.1           \n",
       " [95] cachem_1.0.6                rsvd_1.0.3                 \n",
       " [97] SingleCellExperiment_1.12.0 tibble_3.1.2               \n",
       " [99] memoise_2.0.0               IRanges_2.24.1             \n",
       "[101] bluster_1.0.0               statmod_1.4.35             \n",
       "[103] ellipsis_0.3.2             "
      ]
     },
     "metadata": {},
     "output_type": "display_data"
    }
   ],
   "source": [
    "sessionInfo()"
   ]
  },
  {
   "cell_type": "code",
   "execution_count": null,
   "id": "35790ffb",
   "metadata": {},
   "outputs": [],
   "source": []
  }
 ],
 "metadata": {
  "kernelspec": {
   "display_name": "R",
   "language": "R",
   "name": "ir"
  },
  "language_info": {
   "codemirror_mode": "r",
   "file_extension": ".r",
   "mimetype": "text/x-r-source",
   "name": "R",
   "pygments_lexer": "r",
   "version": "4.0.5"
  }
 },
 "nbformat": 4,
 "nbformat_minor": 5
}
